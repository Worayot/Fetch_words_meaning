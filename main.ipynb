{
 "cells": [
  {
   "cell_type": "markdown",
   "metadata": {},
   "source": [
    "TEMP   "
   ]
  },
  {
   "cell_type": "code",
   "execution_count": 59,
   "metadata": {},
   "outputs": [
    {
     "name": "stdout",
     "output_type": "stream",
     "text": [
      "HTML content fetched successfully for Sell\n",
      "------------------------------------------------------------\n",
      "HTML content fetched successfully for onion\n",
      "------------------------------------------------------------\n",
      "HTML content fetched successfully for the\n",
      "------------------------------------------------------------\n",
      "HTML content fetched successfully for set\n",
      "------------------------------------------------------------\n",
      "Meanings have been saved to 'meanings.json'\n"
     ]
    }
   ],
   "source": [
    "import pandas as pd\n",
    "from bs4 import BeautifulSoup\n",
    "import requests\n",
    "import re\n",
    "import json\n",
    "\n",
    "BASE_URL: str = \"https://www.merriam-webster.com/dictionary/\"\n",
    "words = [\"Sell\", \"onion\", \"the\", \"set\"]\n",
    "\n",
    "# Store the results in a list to write into a JSON file\n",
    "results = []\n",
    "\n",
    "def find_meanings(word: str, html_content: str) -> None:\n",
    "    soup = BeautifulSoup(html_content, 'html.parser')\n",
    "\n",
    "    # Find all h1 elements with class 'hword'\n",
    "    h1_elements = soup.find_all('h1', class_='hword')\n",
    "    h1_data = [{'tag': tag.name, 'text': tag.text, 'class': tag.get('class')} for tag in h1_elements]\n",
    "    h1_df = pd.DataFrame(h1_data)\n",
    "\n",
    "    # Find elements with class 'dtText' inside 'dt' inside 'sense-context w-100'\n",
    "    dtText_elements = soup.select(\".sense-content .dt .dtText\")\n",
    "    dtText_data = [{'tag': tag.name, 'text': tag.text.strip()} for tag in dtText_elements]\n",
    "    dtText_df = pd.DataFrame(dtText_data)\n",
    "\n",
    "    # Create a new DataFrame with headers 'Words' and 'Meaning'\n",
    "    words_series = h1_df['text'] if not h1_df.empty else pd.Series([\"No word found\"])\n",
    "    meanings_series = dtText_df['text'] if not dtText_df.empty else pd.Series([\"No meaning found\"])\n",
    "\n",
    "    meanings = meanings_series.to_list()\n",
    "    filtered_meanings = meanings.copy()\n",
    "    for i in range(len(meanings)):\n",
    "        filtered_meanings[i] = re.sub(r\":\\s\", \"\", meanings[i])\n",
    "\n",
    "    # Collect results to write to the JSON file later\n",
    "    word_meanings = {\n",
    "        'word': words_series.iloc[0],\n",
    "        'meanings': filtered_meanings\n",
    "    }\n",
    "    results.append(word_meanings)\n",
    "\n",
    "for word in words:\n",
    "    url: str = BASE_URL + word\n",
    "    try:\n",
    "        # Make a GET request to the URL\n",
    "        response = requests.get(url)\n",
    "        \n",
    "        # Check if the request was successful\n",
    "        if response.status_code == 200:\n",
    "            html_content = response.text\n",
    "            print(f\"HTML content fetched successfully for {word}\")\n",
    "            find_meanings(word, html_content)\n",
    "            print(\"-\" * 60)\n",
    "        else:\n",
    "            print(f\"Failed to fetch page for {word}. Status code: {response.status_code}\")\n",
    "            print(\"-\" * 60)\n",
    "    except requests.RequestException as e:\n",
    "        print(f\"An error occurred: {e}\")\n",
    "\n",
    "# Write the results to a JSON file\n",
    "with open(\"meanings.json\", \"w\") as json_file:\n",
    "    json.dump(results, json_file, indent=4)\n",
    "\n",
    "print(\"Meanings have been saved to 'meanings.json'\")\n"
   ]
  },
  {
   "cell_type": "code",
   "execution_count": null,
   "metadata": {},
   "outputs": [],
   "source": []
  }
 ],
 "metadata": {
  "kernelspec": {
   "display_name": "Python 3",
   "language": "python",
   "name": "python3"
  },
  "language_info": {
   "codemirror_mode": {
    "name": "ipython",
    "version": 3
   },
   "file_extension": ".py",
   "mimetype": "text/x-python",
   "name": "python",
   "nbconvert_exporter": "python",
   "pygments_lexer": "ipython3",
   "version": "3.9.6"
  }
 },
 "nbformat": 4,
 "nbformat_minor": 2
}
